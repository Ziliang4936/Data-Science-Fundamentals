{
 "cells": [
  {
   "attachments": {},
   "cell_type": "markdown",
   "metadata": {},
   "source": [
    "# Worksheet 02\n",
    "\n",
    "Name:  Ziliang Wang\n",
    "UID:    U47271531\n",
    "\n",
    "\n",
    "### Topics\n",
    "\n",
    "- Effective Programming\n",
    "\n",
    "### Effective Programming\n",
    "\n",
    "a) What is a drawback of the top down approach?"
   ]
  },
  {
   "cell_type": "markdown",
   "metadata": {},
   "source": [
    "1. Stubbing and Mocking: Before the detailed components or functions are implemented, \"stubs\" may be needed to simulate the behavior of lower-level modules.Difficulty in Adapting to Changes: If requirements change or new requirements emerge, it might be more challenging to accommodate them due to the rigidity of the top-down development structure.\n",
    "\n",
    "2. Loss of Parallel Development Opportunities: While some parts of the system are being waited upon (due to dependencies), other team members might be idle. A more concurrent approach might speed up the overall development process.While the top-down approach can provide a clear vision and structured path for development, combining it with elements of the bottom-up approach (where one starts with detailed components and integrates them into larger systems) can help mitigate some of these drawbacks. This combined method ensures that both the high-level design and detailed components are considered concurrently, promoting a more cohesive and adaptable software development process.\n",
    "\n",
    "\n",
    "\n",
    "\n",
    "\n"
   ]
  },
  {
   "cell_type": "markdown",
   "metadata": {},
   "source": [
    "b) What is a drawback of the bottom up approach?"
   ]
  },
  {
   "cell_type": "markdown",
   "metadata": {},
   "source": [
    "Lack of Big Picture Vision, Starting with the detailed components can sometimes mean that developers lose sight of the overall system's architecture or design objectives. This can lead to components that function well on their own but do not necessarily align with the system's broader goals.\n",
    "\n",
    "Without a clear high-level design from the outset, there's potential for multiple developers to create similar or overlapping components. This redundancy can waste development time and lead to more complex integration efforts.\n",
    "\n"
   ]
  },
  {
   "cell_type": "markdown",
   "metadata": {},
   "source": [
    "c) What are 3 things you can do to have a better debugging experience?"
   ]
  },
  {
   "cell_type": "markdown",
   "metadata": {},
   "source": [
    "1. read the error\n",
    "\n",
    "2. Re-read our code and check every code.\n",
    "\n",
    "3. Look online for some help. And take some break."
   ]
  },
  {
   "cell_type": "code",
   "execution_count": null,
   "metadata": {},
   "outputs": [],
   "source": []
  },
  {
   "attachments": {},
   "cell_type": "markdown",
   "metadata": {},
   "source": [
    "d) Follow along with the live coding. You can write your code here:"
   ]
  },
  {
   "cell_type": "code",
   "execution_count": null,
   "metadata": {},
   "outputs": [],
   "source": [
    "class Board:\n",
    "\n",
    "    def _init_(self):\n",
    "        self.board = [[\"_\" for _ in range(8)] for _ in range(8) ]\n",
    "\n",
    "\n",
    "    def _repr_(self):\n",
    "        res = \"\"\n",
    "        for row in self.board:\n",
    "            for col in row:\n",
    "                res += col\n",
    "                res += \" \"\n",
    "            res += \"\\n\"\n",
    "        return res\n",
    "    \n",
    "    def is_legal_row(self, row, col):\n",
    "        for j in range(len(self.board)):\n",
    "            if self.board[row][j] == \"Q\":\n",
    "                return False\n",
    "            return True\n",
    "        \n",
    "    def is_legal_col(self, row, col):\n",
    "        for i in range(len(self.board)):\n",
    "            if self.board[col][i] == \"Q\":\n",
    "                return False\n",
    "            return True\n",
    "        \n",
    "    def is_on_board(self, row, col):\n",
    "        return row >= 0 and row < 8 and col >= 0 and col < 8\n",
    "        \n",
    "    def is_legal_diag(self, row, col):\n",
    "        for i in range(len(self.board)):\n",
    "            if self.is_on_board(row - i, col - i) and self.board[row - i][col - i] == \"Q\":\n",
    "                return False\n",
    "            if self.is_on_board(row - i, col + i) and self.board[row - i][col - i] == \"Q\":\n",
    "                return False\n",
    "            if self.is_on_board(row + i, col - i) and self.board[row - i][col - i] == \"Q\":\n",
    "                return False\n",
    "            if self.is_on_board(row + i, col + i) and self.board[row - i][col - i] == \"Q\":\n",
    "                return False\n",
    "        \n",
    "    \n",
    "    def is_legal(self, row, col):\n",
    "        if not self.is_legal_row(row, col):\n",
    "            return False\n",
    "        return True\n",
    "    \n",
    "    def set_queen_at(self, row, col):\n",
    "        self.board[row][col] = \"Q\"\n",
    "\n",
    "    def unset_queen_on(self, row):\n",
    "        self.board[row] = [\"_\" for _ in range(8)]\n",
    "\n",
    "    def get_queen_on(self, row):\n",
    "        for col in range(len(self.board)):\n",
    "            if self.board[row][col] == \"Q\":\n",
    "                return col\n",
    "        raise ValueError(\"Programmer error\")\n",
    "\n",
    "            \n",
    "    \n",
    "\n",
    "    def search(self):\n",
    "            row = 0\n",
    "            col = 0\n",
    "            \n",
    "            while row < 8:\n",
    "                if row < 8:\n",
    "\n",
    "                    if self.is_legal(row, col):\n",
    "                        self.set_queen_at(row, col)\n",
    "                        row += 1\n",
    "                        col = 0\n",
    "            \n",
    "            else:\n",
    "                 col += 1\n",
    "                 while col >= 8:\n",
    "                    col = self.get_queen_on(row - 1)\n",
    "                    self.unset_queen_on(row - 1)\n",
    "                    col += 1\n",
    "                    row -= 1\n",
    "            \n",
    "            print(\"found a solution\")\n",
    "            print(self)\n",
    "\n",
    "                      \n",
    "\n",
    "\n",
    "\n",
    "    my_board = Board()\n",
    "    my_board.search()       \n",
    "    "
   ]
  }
 ],
 "metadata": {
  "kernelspec": {
   "display_name": "Python 3",
   "language": "python",
   "name": "python3"
  },
  "language_info": {
   "name": "python",
   "version": "3.11.1 (main, Dec  7 2022, 00:00:00) [GCC 12.2.1 20221121 (Red Hat 12.2.1-4)]"
  },
  "orig_nbformat": 4,
  "vscode": {
   "interpreter": {
    "hash": "76ca05dc3ea24b2e3b98cdb7774adfbb40773424bf5109b477fd793f623715af"
   }
  }
 },
 "nbformat": 4,
 "nbformat_minor": 2
}
